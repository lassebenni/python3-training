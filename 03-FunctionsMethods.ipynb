{
 "cells": [
  {
   "cell_type": "markdown",
   "metadata": {},
   "source": [
    "# Methods & Functions\n",
    "\n",
    "<ol type=\"A\">\n",
    "  <li>Methods</li>\n",
    "  <li>Functions</li>\n",
    "  <li>Lambda, Map & Filter</li>\n",
    "  <li>Nested Statements & Scope</li>\n",
    "  <li><code>*args</code> and <code>**kwargs</code></li>\n",
    "</ol>\n",
    "\n",
    "\n",
    "<hr>\n",
    "\n",
    "## A. Methods\n",
    "Methods are functions built into objects that perform specific actions on an object and can also take arguments. They have the form:\n",
    "\n",
    "    object.method(arg1,arg2,etc...)\n",
    "    \n",
    "It is usual to take an argument `self` referring to the object itself."
   ]
  },
  {
   "cell_type": "code",
   "execution_count": 1,
   "metadata": {},
   "outputs": [
    {
     "data": {
      "text/plain": [
       "[1, 2, 3, 4, 5]"
      ]
     },
     "execution_count": 1,
     "metadata": {},
     "output_type": "execute_result"
    }
   ],
   "source": [
    "simple_list = list(range(1,6))\n",
    "simple_list"
   ]
  },
  {
   "cell_type": "code",
   "execution_count": 3,
   "metadata": {},
   "outputs": [
    {
     "name": "stdout",
     "output_type": "stream",
     "text": [
      "Help on built-in function sort:\n\nsort(...) method of builtins.list instance\n    L.sort(key=None, reverse=False) -> None -- stable sort *IN PLACE*\n\n"
     ]
    }
   ],
   "source": [
    "# Notebooks, IDES or text editors with pluging allow you to use tab to see methods.\n",
    "\n",
    "# But you can also use the help command\n",
    "help(simple_list.sort)"
   ]
  },
  {
   "cell_type": "markdown",
   "metadata": {},
   "source": [
    "<hr>\n",
    "\n",
    "## B. Functions\n",
    "A function is a way to group together a set of statements so they can be run more than once. They can also let us specify parameters that can serve as inputs to the functions.\n",
    "<br> They allow us to not have to repeatedly write the same code again and again. \n",
    "\n",
    "#### <code>def</code> statement"
   ]
  },
  {
   "cell_type": "code",
   "execution_count": 6,
   "metadata": {},
   "outputs": [],
   "source": [
    "def name_of_function(arg1, arg2, name):\n",
    "    '''\n",
    "    \n",
    "    :param arg1: \n",
    "    :param arg2:\n",
    "    :param name: \n",
    "    :return: \n",
    "    '''\n",
    "    print(1)\n",
    "    # Sentences\n",
    "    # Return or print a result"
   ]
  },
  {
   "cell_type": "code",
   "execution_count": 7,
   "metadata": {},
   "outputs": [],
   "source": [
    "def say_hello():\n",
    "    print('Hello!')"
   ]
  },
  {
   "cell_type": "code",
   "execution_count": 8,
   "metadata": {},
   "outputs": [
    {
     "name": "stdout",
     "output_type": "stream",
     "text": [
      "Hello!\n"
     ]
    }
   ],
   "source": [
    "say_hello()"
   ]
  },
  {
   "cell_type": "code",
   "execution_count": 7,
   "metadata": {},
   "outputs": [],
   "source": [
    "def personal_hello(name):\n",
    "    print('Hello, {}!'.format(name))"
   ]
  },
  {
   "cell_type": "code",
   "execution_count": 8,
   "metadata": {},
   "outputs": [
    {
     "name": "stdout",
     "output_type": "stream",
     "text": [
      "Hello, Thiago!\n"
     ]
    }
   ],
   "source": [
    "personal_hello('Thiago')"
   ]
  },
  {
   "cell_type": "code",
   "execution_count": 12,
   "metadata": {},
   "outputs": [],
   "source": [
    "def add_num(num1, num2):\n",
    "    return num1 + num2"
   ]
  },
  {
   "cell_type": "code",
   "execution_count": 13,
   "metadata": {},
   "outputs": [
    {
     "data": {
      "text/plain": [
       "21"
      ]
     },
     "execution_count": 13,
     "metadata": {},
     "output_type": "execute_result"
    }
   ],
   "source": [
    "sum_numbers = add_num(9,12)\n",
    "sum_numbers"
   ]
  },
  {
   "cell_type": "code",
   "execution_count": 14,
   "metadata": {},
   "outputs": [
    {
     "data": {
      "text/plain": [
       "'Thiago works at KLM'"
      ]
     },
     "execution_count": 14,
     "metadata": {},
     "output_type": "execute_result"
    }
   ],
   "source": [
    "# note we didn't put any checks here. That means we can put strings and this will concatenate\n",
    "sum_numbers = add_num('Thiago', ' works at KLM')\n",
    "sum_numbers"
   ]
  },
  {
   "cell_type": "code",
   "execution_count": 15,
   "metadata": {},
   "outputs": [],
   "source": [
    "def is_prime(num):\n",
    "    '''\n",
    "    Very naive and cost way to check if a number is prime\n",
    "    :param num: \n",
    "    :return: \n",
    "    '''\n",
    "    for n in range(2,num):\n",
    "        if num % n == 0:\n",
    "            print(('{} is divisible by {}. So it is not prime').format(num,n))\n",
    "            break\n",
    "    else:\n",
    "        print(('{} is prime').format(num))"
   ]
  },
  {
   "cell_type": "code",
   "execution_count": 16,
   "metadata": {},
   "outputs": [
    {
     "name": "stdout",
     "output_type": "stream",
     "text": [
      "4 is divisible by 2. So it is not prime\n17 is prime\n"
     ]
    }
   ],
   "source": [
    "is_prime(4)\n",
    "is_prime(17)"
   ]
  },
  {
   "cell_type": "markdown",
   "metadata": {},
   "source": [
    "Note how the <code>else</code> lines up under <code>for</code> and not <code>if</code>. Because we want the <code>for</code> loop to exhaust all possibilities in the range before printing our number is prime.\n",
    "<br>Note that as soon as we determine that a number is not prime we break out of the <code>for</code> loop.\n",
    "<br> We can actually improve this function by only checking to the square root of the target number, and by disregarding all even numbers after checking for 2. We'll also switch to returning a boolean value to get an example of using return statements:"
   ]
  },
  {
   "cell_type": "code",
   "execution_count": 21,
   "metadata": {},
   "outputs": [],
   "source": [
    "from math import sqrt\n",
    "\n",
    "def better_is_prime(num):\n",
    "    '''\n",
    "    Better method for finding primes using square roots\n",
    "    :param num: \n",
    "    :return: \n",
    "    '''\n",
    "    if num % 2 == 0 and num >2:\n",
    "        return False\n",
    "    for i in range(3, int(sqrt(num) + 1), 2):\n",
    "        if num % i == 0:\n",
    "            return False\n",
    "    return True"
   ]
  },
  {
   "cell_type": "code",
   "execution_count": 19,
   "metadata": {},
   "outputs": [
    {
     "data": {
      "text/plain": [
       "False"
      ]
     },
     "execution_count": 19,
     "metadata": {},
     "output_type": "execute_result"
    }
   ],
   "source": [
    "better_is_prime(8)"
   ]
  },
  {
   "cell_type": "code",
   "execution_count": 20,
   "metadata": {},
   "outputs": [
    {
     "data": {
      "text/plain": [
       "True"
      ]
     },
     "execution_count": 20,
     "metadata": {},
     "output_type": "execute_result"
    }
   ],
   "source": [
    "better_is_prime(17)"
   ]
  },
  {
   "cell_type": "markdown",
   "metadata": {},
   "source": [
    "As soon as a function *returns* something, it shuts down. A function can deliver multiple print statements, but it will only obey one `return`. Thus, no need for `break`.\n",
    "\n",
    "#### Nice test!\n",
    "Write a function that returns the *number* of prime numbers that exist up to and including a given number"
   ]
  },
  {
   "cell_type": "code",
   "execution_count": 22,
   "metadata": {},
   "outputs": [],
   "source": [
    "def count_primes(num):\n",
    "    primes = [2]\n",
    "    x = 3\n",
    "    if num < 2:\n",
    "        return 0\n",
    "    while x < num:\n",
    "    # while x <= num: # to include the given number\n",
    "        for y in primes:\n",
    "            if x % y == 0:\n",
    "                x += 2\n",
    "                break\n",
    "        else:\n",
    "            primes.append(x)\n",
    "            x += 2\n",
    "    print(primes)\n",
    "    return len(primes)"
   ]
  },
  {
   "cell_type": "code",
   "execution_count": 25,
   "metadata": {},
   "outputs": [
    {
     "name": "stdout",
     "output_type": "stream",
     "text": [
      "[2, 3, 5, 7, 11, 13, 17, 19, 23, 29, 31, 37, 41, 43, 47, 53, 59, 61, 67, 71, 73, 79, 83, 89, 97]\n"
     ]
    },
    {
     "data": {
      "text/plain": [
       "25"
      ]
     },
     "execution_count": 25,
     "metadata": {},
     "output_type": "execute_result"
    }
   ],
   "source": [
    "count_primes(100)"
   ]
  },
  {
   "cell_type": "markdown",
   "metadata": {},
   "source": [
    "<hr>\n",
    "\n",
    "## C. Map, Filter & Lambda\n",
    "\n",
    "#### Map\n",
    "\n",
    "The **map** function allows you to \"map\" a function to an iterable object. That is to say you can quickly call the same function to every item in an iterable, such as a list."
   ]
  },
  {
   "cell_type": "code",
   "execution_count": 26,
   "metadata": {},
   "outputs": [],
   "source": [
    "def square(num):\n",
    "    return num**2"
   ]
  },
  {
   "cell_type": "code",
   "execution_count": 27,
   "metadata": {},
   "outputs": [
    {
     "data": {
      "text/plain": [
       "[1, 2, 3, 4, 5]"
      ]
     },
     "execution_count": 27,
     "metadata": {},
     "output_type": "execute_result"
    }
   ],
   "source": [
    "my_list = list(range(1,6))\n",
    "my_list"
   ]
  },
  {
   "cell_type": "code",
   "execution_count": 28,
   "metadata": {},
   "outputs": [
    {
     "data": {
      "text/plain": [
       "<map at 0x106cd7e10>"
      ]
     },
     "execution_count": 28,
     "metadata": {},
     "output_type": "execute_result"
    }
   ],
   "source": [
    "map(square, my_list)"
   ]
  },
  {
   "cell_type": "code",
   "execution_count": 30,
   "metadata": {},
   "outputs": [
    {
     "data": {
      "text/plain": [
       "[1, 4, 9, 16, 25]"
      ]
     },
     "execution_count": 30,
     "metadata": {},
     "output_type": "execute_result"
    }
   ],
   "source": [
    "# This won't execute it. You have to cast/iterate \n",
    "list(map(square, my_list))"
   ]
  },
  {
   "cell_type": "markdown",
   "metadata": {},
   "source": [
    "#### filter\n",
    "\n",
    "It returns an iterator yielding those items of iterable for which function(item) is true. Meaning you need to filter by a function that returns either `True` or `False`. Then passing that into filter (along with your iterable) and you will get back only the results that would return `True` when passed to the function."
   ]
  },
  {
   "cell_type": "code",
   "execution_count": 31,
   "metadata": {},
   "outputs": [],
   "source": [
    "def check_odd(num):\n",
    "    return num % 2 == 1"
   ]
  },
  {
   "cell_type": "code",
   "execution_count": 33,
   "metadata": {},
   "outputs": [
    {
     "data": {
      "text/plain": [
       "[1, 3, 5]"
      ]
     },
     "execution_count": 33,
     "metadata": {},
     "output_type": "execute_result"
    }
   ],
   "source": [
    "list(filter(check_odd, my_list))"
   ]
  },
  {
   "cell_type": "markdown",
   "metadata": {},
   "source": [
    "#### Lambda\n",
    "\n",
    "Confusing for beginners, but a lifesaver! It allow us to create \"anonymous\" functions within code... when should we you use it? When the function is so simple that doesn't make sense to create an external one.\n",
    "<br> The main difference with a regular `def` is that the **lambda's body is a single expression, not a sequence of statements**."
   ]
  },
  {
   "cell_type": "code",
   "execution_count": 34,
   "metadata": {},
   "outputs": [],
   "source": [
    "# Imagine the following function written in one line\n",
    "def square(num): return num**2"
   ]
  },
  {
   "cell_type": "code",
   "execution_count": 35,
   "metadata": {},
   "outputs": [
    {
     "data": {
      "text/plain": [
       "<function __main__.<lambda>>"
      ]
     },
     "execution_count": 35,
     "metadata": {},
     "output_type": "execute_result"
    }
   ],
   "source": [
    "lambda num: num ** 2"
   ]
  },
  {
   "cell_type": "code",
   "execution_count": 37,
   "metadata": {},
   "outputs": [
    {
     "data": {
      "text/plain": [
       "[1, 4, 9, 16, 25]"
      ]
     },
     "execution_count": 37,
     "metadata": {},
     "output_type": "execute_result"
    }
   ],
   "source": [
    "list(map(lambda num: num**2, my_list))"
   ]
  },
  {
   "cell_type": "markdown",
   "metadata": {},
   "source": [
    "<hr>\n",
    "\n",
    "## D. Scope\n",
    "\n",
    "A variable name in Python is stored in a *namespace*. Variable names also have a *scope*, the scope determines the visibility of that variable name to other parts of your code."
   ]
  },
  {
   "cell_type": "code",
   "execution_count": 38,
   "metadata": {},
   "outputs": [
    {
     "name": "stdout",
     "output_type": "stream",
     "text": [
      "Air France\n"
     ]
    }
   ],
   "source": [
    "airline = \"KLM\"\n",
    "\n",
    "def airline_printer():\n",
    "    airline = \"Air France\"\n",
    "    return airline\n",
    "\n",
    "print(airline_printer())"
   ]
  },
  {
   "cell_type": "code",
   "execution_count": 39,
   "metadata": {},
   "outputs": [
    {
     "name": "stdout",
     "output_type": "stream",
     "text": [
      "KLM\n"
     ]
    }
   ],
   "source": [
    "print(airline)"
   ]
  },
  {
   "cell_type": "code",
   "execution_count": 40,
   "metadata": {},
   "outputs": [
    {
     "name": "stdout",
     "output_type": "stream",
     "text": [
      "Air France\n"
     ]
    }
   ],
   "source": [
    "print(airline_printer())"
   ]
  },
  {
   "cell_type": "markdown",
   "metadata": {},
   "source": [
    "Scope follow 3 general rules:\n",
    "<ol>\n",
    "  <li>Name assignments will create or change local names by default.</li>\n",
    "  <li>Name references search (at most) four scopes:\n",
    "    <ul>\n",
    "      <li>local</li>\n",
    "      <li>enclosing functions</li>\n",
    "      <li>global</li>\n",
    "      <li>built-in</li>\n",
    "    </ul>\n",
    "  </li>\n",
    "  <li>Names declared in global and nonlocal statements map assigned names to enclosing module and function scopes.</li>\n",
    "</ol>\n",
    "\n",
    "\n",
    "The statement in #2 above can be defined by the LEGB rule.\n",
    "\n",
    "**LEGB Rule:**\n",
    "\n",
    "L: Local — Names assigned in any way within a function (def or lambda), and not declared global in that function.\n",
    "\n",
    "E: Enclosing function locals — Names in the local scope of any and all enclosing functions (def or lambda), from inner to outer.\n",
    "\n",
    "G: Global (module) — Names assigned at the top-level of a module file, or declared global in a def within the file.\n",
    "\n",
    "B: Built-in (Python) — Names preassigned in the built-in names module : open, range, SyntaxError,..."
   ]
  },
  {
   "cell_type": "code",
   "execution_count": 41,
   "metadata": {},
   "outputs": [],
   "source": [
    "# x is local here:\n",
    "f = lambda x:x**2"
   ]
  },
  {
   "cell_type": "code",
   "execution_count": 44,
   "metadata": {},
   "outputs": [
    {
     "name": "stdout",
     "output_type": "stream",
     "text": [
      "Hello Sammy\n"
     ]
    }
   ],
   "source": [
    "name = 'This is a global name'\n",
    "\n",
    "def greet():\n",
    "    # Enclosing function\n",
    "    name = 'Sammy'\n",
    "    \n",
    "    def hello():\n",
    "        print('Hello', name)\n",
    "    \n",
    "    hello()\n",
    "\n",
    "greet()\n",
    "\n",
    "# name here is on the enclosed function"
   ]
  },
  {
   "cell_type": "code",
   "execution_count": 45,
   "metadata": {},
   "outputs": [
    {
     "name": "stdout",
     "output_type": "stream",
     "text": [
      "This is a global name\n"
     ]
    }
   ],
   "source": [
    "print(name)"
   ]
  },
  {
   "cell_type": "code",
   "execution_count": 46,
   "metadata": {},
   "outputs": [
    {
     "data": {
      "text/plain": [
       "<function len>"
      ]
     },
     "execution_count": 46,
     "metadata": {},
     "output_type": "execute_result"
    }
   ],
   "source": [
    "# built-in ---> do not overwrite it!\n",
    "len"
   ]
  },
  {
   "cell_type": "code",
   "execution_count": 47,
   "metadata": {},
   "outputs": [
    {
     "name": "stdout",
     "output_type": "stream",
     "text": [
      "x is 50\nChanged local x to 2\nx is still 50\n"
     ]
    }
   ],
   "source": [
    "x = 50\n",
    "\n",
    "def func(x):\n",
    "    print('x is', x)\n",
    "    x = 2\n",
    "    print('Changed local x to', x)\n",
    "\n",
    "func(x)\n",
    "\n",
    "print('x is still', x)"
   ]
  },
  {
   "cell_type": "code",
   "execution_count": 48,
   "metadata": {},
   "outputs": [
    {
     "name": "stdout",
     "output_type": "stream",
     "text": [
      "Before calling func(), x is:  50 \n\nThis function is now using the global x!\nBecause of global x is:  50\nThis function changed global x to 2\n\nSo now, outside of func(), the value of x is:  2\n"
     ]
    }
   ],
   "source": [
    "# The global statement\n",
    "\n",
    "x = 50\n",
    "\n",
    "\n",
    "def func():\n",
    "    global x\n",
    "    print('This function is now using the global x!')\n",
    "    print('Because of global x is: ', x)\n",
    "    x = 2\n",
    "    print('This function changed global x to', x)\n",
    "\n",
    "\n",
    "print('Before calling func(), x is: ', x, '\\n')\n",
    "func()\n",
    "print('\\nSo now, outside of func(), the value of x is: ', x)"
   ]
  },
  {
   "cell_type": "markdown",
   "metadata": {},
   "source": [
    "<hr>\n",
    "\n",
    "## E. `*args` and `**kwargs`\n",
    "\n",
    "\"Weird\" terms that appear as parameters in function definitions."
   ]
  },
  {
   "cell_type": "code",
   "execution_count": 71,
   "metadata": {},
   "outputs": [
    {
     "data": {
      "text/plain": [
       "5.0"
      ]
     },
     "execution_count": 71,
     "metadata": {},
     "output_type": "execute_result"
    }
   ],
   "source": [
    "def myfunc(a,b):\n",
    "    return sum((a,b))*.05\n",
    "\n",
    "myfunc(40,60)"
   ]
  },
  {
   "cell_type": "code",
   "execution_count": 72,
   "metadata": {},
   "outputs": [],
   "source": [
    "def myfunc(a=0,b=0,c=0,d=0,e=0):\n",
    "    return sum((a,b,c,d,e))*.05"
   ]
  },
  {
   "cell_type": "markdown",
   "metadata": {},
   "source": [
    "Putting all these default values and parameters is quite unneficient! And that is what `*args` can help you."
   ]
  },
  {
   "cell_type": "code",
   "execution_count": 50,
   "metadata": {},
   "outputs": [
    {
     "data": {
      "text/plain": [
       "10.5"
      ]
     },
     "execution_count": 50,
     "metadata": {},
     "output_type": "execute_result"
    }
   ],
   "source": [
    "def myfunc(*args):\n",
    "    return sum(args)*0.05\n",
    "\n",
    "myfunc(40,60,10,100)"
   ]
  },
  {
   "cell_type": "markdown",
   "metadata": {},
   "source": [
    "Similarly, we can handle an arbitrary numbers of *keyworded* arguments. Instead of creating a tuple of values, `**kwargs` builds a dictionary of key/value pairs."
   ]
  },
  {
   "cell_type": "code",
   "execution_count": 77,
   "metadata": {},
   "outputs": [
    {
     "name": "stdout",
     "output_type": "stream",
     "text": [
      "I always fly with KLM\n"
     ]
    }
   ],
   "source": [
    "def myfunc(**kwargs):\n",
    "    if 'airline' in kwargs:\n",
    "        print(f\"I always fly with {kwargs['airline']}\")\n",
    "    else:\n",
    "        print(\"I am scared of flying\")\n",
    "        \n",
    "myfunc(airline='KLM')"
   ]
  },
  {
   "cell_type": "code",
   "execution_count": 58,
   "metadata": {},
   "outputs": [],
   "source": [
    "def myfunc(*args, **kwargs):\n",
    "    if 'airline' and 'destination' in kwargs:\n",
    "        print(f\"I will fly from {''.join(args)} to {kwargs['destination']}\")\n",
    "        print(f\"My ticket is from {kwargs['airline']}!\")\n",
    "    else:\n",
    "        pass\n",
    "        \n",
    "# myfunc('Amsterdam', 'Thiago', airline='KLM', destination='Rio de Janeiro')\n",
    "myfunc('Amsterdam', 'Thiago')"
   ]
  },
  {
   "cell_type": "markdown",
   "metadata": {},
   "source": [
    "#### Test!\n",
    "Write a Python function to check whether a string is pangram or not.\n",
    "\n",
    "    Note : Pangrams are words or sentences containing every letter of the alphabet at least once.\n",
    "    For example : \"The quick brown fox jumps over the lazy dog\"\n"
   ]
  },
  {
   "cell_type": "code",
   "execution_count": 59,
   "metadata": {},
   "outputs": [
    {
     "data": {
      "text/plain": [
       "True"
      ]
     },
     "execution_count": 59,
     "metadata": {},
     "output_type": "execute_result"
    }
   ],
   "source": [
    "import string\n",
    "\n",
    "def ispangram(str1, alphabet=string.ascii_lowercase):  \n",
    "    alphaset = set(alphabet)  \n",
    "    return alphaset <= set(str1.lower())\n",
    "\n",
    "ispangram(\"The quick brown fox jumps over the lazy dog\")"
   ]
  },
  {
   "cell_type": "code",
   "execution_count": null,
   "metadata": {},
   "outputs": [],
   "source": []
  }
 ],
 "metadata": {
  "anaconda-cloud": {},
  "kernelspec": {
   "display_name": "Python 3",
   "language": "python",
   "name": "python3"
  },
  "language_info": {
   "codemirror_mode": {
    "name": "ipython",
    "version": 3
   },
   "file_extension": ".py",
   "mimetype": "text/x-python",
   "name": "python",
   "nbconvert_exporter": "python",
   "pygments_lexer": "ipython3",
   "version": "3.6.2"
  }
 },
 "nbformat": 4,
 "nbformat_minor": 1
}
