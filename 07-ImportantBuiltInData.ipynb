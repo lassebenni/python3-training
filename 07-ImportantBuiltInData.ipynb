{
 "cells": [
  {
   "cell_type": "markdown",
   "metadata": {},
   "source": [
    "# Important Built-In Methods when dealing with Data\n",
    "\n",
    "In the rest of this session we will discuss the following:\n",
    "<ol type=\"A\">\n",
    "  <li><code>map()</code></li>\n",
    "  <li><code>For</code> loops</li>\n",
    "  <li><code>while</code> loops</li>\n",
    "  <li><code>all()</code> & <code>any()</code></li>\n",
    "</ol>\n",
    "\n",
    "<hr>\n",
    "###A. <code>map()</code>\n",
    "\n",
    "    map(function, iterable, ...)\n",
    "    \n",
    "`map()` returns an *iterator* - that is, map() returns a special object that yields one result at a time as needed.\n",
    "\n",
    "Imagine you have a list of temperatures in Farenheit and you want to convert to celsius."
   ]
  },
  {
   "cell_type": "code",
   "execution_count": 1,
   "metadata": {},
   "outputs": [],
   "source": [
    "temps = [-14, 0, 22.5, 37, 100, 132]\n",
    "\n",
    "def fahrenheit(celsius):\n",
    "    return (9/5)*celsius + 32"
   ]
  },
  {
   "cell_type": "code",
   "execution_count": 2,
   "metadata": {},
   "outputs": [
    {
     "data": {
      "text/plain": [
       "<map at 0x10baf59b0>"
      ]
     },
     "execution_count": 2,
     "metadata": {},
     "output_type": "execute_result"
    }
   ],
   "source": [
    "F_temps = map(fahrenheit, temps)\n",
    "F_temps"
   ]
  },
  {
   "cell_type": "markdown",
   "metadata": {},
   "source": [
    "Map won't calculate anything yet, just map each element to its function. To calculate it, you have to *cast* it. On this case, since it is not that much data, we can just cast in a list."
   ]
  },
  {
   "cell_type": "code",
   "execution_count": 3,
   "metadata": {},
   "outputs": [
    {
     "data": {
      "text/plain": [
       "[6.800000000000001, 32.0, 72.5, 98.60000000000001, 212.0, 269.6]"
      ]
     },
     "execution_count": 3,
     "metadata": {},
     "output_type": "execute_result"
    }
   ],
   "source": [
    "list(F_temps)"
   ]
  },
  {
   "cell_type": "code",
   "execution_count": 4,
   "metadata": {},
   "outputs": [
    {
     "data": {
      "text/plain": [
       "[6.800000000000001, 32.0, 72.5, 98.60000000000001, 212.0, 269.6]"
      ]
     },
     "execution_count": 4,
     "metadata": {},
     "output_type": "execute_result"
    }
   ],
   "source": [
    "# We could also have used a lambda function\n",
    "list(map(lambda x: (9/5)*x + 32, temps))"
   ]
  },
  {
   "cell_type": "markdown",
   "metadata": {},
   "source": [
    "<hr>\n",
    "###A. <code>reduce()</code>\n",
    "The function `reduce(function, sequence)` applies iteratively the function to the sequence, returning a single value. \n",
    "\n",
    "If you have something like `seq = [s1, s2, s3, ... , sn]`, calling `reduce(function, sequence)` is:\n",
    "\n",
    "* At first the first two elements of seq will be applied to function, i.e. `func(s1,s2)` \n",
    "* The list on which reduce() works looks now like this: `[function(s1, s2), s3, ... , sn]`\n",
    "* In the next step the function will be applied on the previous result and the third element of the list, i.e. `function(function(s1, s2),s3)`\n",
    "* The list looks like this now: `[function(function(s1, s2),s3), ... , sn]`\n",
    "* It continues like this until just one element is left and return this element as the result of reduce()"
   ]
  },
  {
   "cell_type": "code",
   "execution_count": 5,
   "metadata": {},
   "outputs": [
    {
     "name": "stdout",
     "output_type": "stream",
     "text": [
      "10\n"
     ]
    },
    {
     "data": {
      "text/plain": [
       "10"
      ]
     },
     "execution_count": 5,
     "metadata": {},
     "output_type": "execute_result"
    }
   ],
   "source": [
    "from functools import reduce\n",
    "\n",
    "lst =[1,2,3,4]\n",
    "print(reduce(lambda x,y: x+y, lst))\n",
    "\n",
    "# Of course, this already exist as sum()\n",
    "sum(lst)"
   ]
  },
  {
   "cell_type": "code",
   "execution_count": 6,
   "metadata": {},
   "outputs": [
    {
     "name": "stdout",
     "output_type": "stream",
     "text": [
      "4\n"
     ]
    },
    {
     "data": {
      "text/plain": [
       "4"
      ]
     },
     "execution_count": 6,
     "metadata": {},
     "output_type": "execute_result"
    }
   ],
   "source": [
    "#Find max\n",
    "print(reduce(lambda x,y: x if (x>y) else y, lst))\n",
    "\n",
    "# The same, max()\n",
    "max(lst)"
   ]
  },
  {
   "cell_type": "markdown",
   "metadata": {},
   "source": [
    "<hr>\n",
    "###C. <code>filter()</code>\n",
    "\n",
    "The function `filter(function, list)` filter out all the elements of an iterable, for which the function returns True. \n",
    "\n",
    "Like map(), filter() returns an *iterator* - lazy evaluation."
   ]
  },
  {
   "cell_type": "code",
   "execution_count": 9,
   "metadata": {},
   "outputs": [],
   "source": [
    "lst = range(20)"
   ]
  },
  {
   "cell_type": "code",
   "execution_count": 10,
   "metadata": {},
   "outputs": [
    {
     "data": {
      "text/plain": [
       "[0, 2, 4, 6, 8, 10, 12, 14, 16, 18]"
      ]
     },
     "execution_count": 10,
     "metadata": {},
     "output_type": "execute_result"
    }
   ],
   "source": [
    "# Get even numbers\n",
    "list(filter(lambda x: True if (x % 2 == 0) else False, lst))"
   ]
  },
  {
   "cell_type": "markdown",
   "metadata": {},
   "source": [
    "<hr>\n",
    "###D. <code>all()</code> and <code>any()</code>\n",
    "\n",
    "Convenient way to check for boolean matching in an iterable. \n",
    "<br>`all()` will return True if all elements in an iterable are True.\n",
    "<br>`any()` will return True if any of the elements in the iterable are True\n"
   ]
  },
  {
   "cell_type": "code",
   "execution_count": 11,
   "metadata": {},
   "outputs": [
    {
     "data": {
      "text/plain": [
       "[0, 1, 2, 3, 4, 5, 6, 7, 8, 9]"
      ]
     },
     "execution_count": 11,
     "metadata": {},
     "output_type": "execute_result"
    }
   ],
   "source": [
    "lst = list(range(10))\n",
    "lst"
   ]
  },
  {
   "cell_type": "code",
   "execution_count": 12,
   "metadata": {},
   "outputs": [
    {
     "name": "stdout",
     "output_type": "stream",
     "text": [
      "False\nTrue\nFalse\nTrue\n"
     ]
    }
   ],
   "source": [
    "lst = range(1,10)\n",
    "\n",
    "# Any of these elements is bigger than 9?\n",
    "bigger_than_9 = (i > 9 for i in lst)\n",
    "print(any(bigger_than_9))\n",
    "\n",
    "# Any of these elements is smaller than 5?\n",
    "smaller_than_5 = (i > 5 for i in lst)\n",
    "print(any(smaller_than_5))\n",
    "\n",
    "# Are all elements bigger than 2\n",
    "bigger_than_2 = (i > 2 for i in lst)\n",
    "print(all(bigger_than_2))\n",
    "\n",
    "# Are all elements positive\n",
    "positive = (i > 0 for i in lst)\n",
    "print(all(positive))"
   ]
  },
  {
   "cell_type": "code",
   "execution_count": null,
   "metadata": {},
   "outputs": [],
   "source": []
  }
 ],
 "metadata": {
  "anaconda-cloud": {},
  "kernelspec": {
   "display_name": "Python 3",
   "language": "python",
   "name": "python3"
  },
  "language_info": {
   "codemirror_mode": {
    "name": "ipython",
    "version": 3
   },
   "file_extension": ".py",
   "mimetype": "text/x-python",
   "name": "python",
   "nbconvert_exporter": "python",
   "pygments_lexer": "ipython3",
   "version": "3.6.2"
  }
 },
 "nbformat": 4,
 "nbformat_minor": 1
}
