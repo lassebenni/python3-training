{
 "cells": [
  {
   "cell_type": "markdown",
   "metadata": {},
   "source": [
    "# Use Docker for your local dev environment\n",
    "\n",
    "Why not use `Virtualenv` or `Pyenv` or any other of these python environments management?\n",
    "<ul>\n",
    "  <li>depends on host OS</li>\n",
    "  <li>CPython C modules will be a pain in the ***</li>\n",
    "  <li>No unifying tooling (Bash, CMD, PS?)</li>\n",
    "  <li>Mutable</li>\n",
    "</ul>\n",
    "\n",
    "## Docker container\n",
    "\n",
    "It is a way to package your application into a standardized unit for Software Development. No more *It works on my machine*.\n",
    "\n",
    "It wraps a piece of software in a complete `fs` that contains everything needed to run: code, runtime, system tools, system libraries *(anything that can be installed on a server)*. So it guarantees that will be the same, independent of the environment.\n",
    "\n",
    "So it is a nice way to build something that contains *just enough* utilities and libraries.\n",
    "<br> Another plus to `virtualenv` and similars? It is not just for `Python`! And of course, remote or local!\n",
    "\n",
    "## Demo\n",
    "\n",
    "    docker pull python:3.6\n",
    "    \n",
    "    docker run -it python:3.6\n",
    "    \n",
    "    docker run -it python:3.6 bash\n",
    "    \n",
    "What a docker file looks like? Check the Docker folder and you can see how a `Dockerfile` for running `spark2.0.0` looks like!"
   ]
  },
  {
   "cell_type": "code",
   "execution_count": null,
   "metadata": {},
   "outputs": [],
   "source": []
  }
 ],
 "metadata": {
  "anaconda-cloud": {},
  "kernelspec": {
   "display_name": "Python 3",
   "language": "python",
   "name": "python3"
  },
  "language_info": {
   "codemirror_mode": {
    "name": "ipython",
    "version": 3
   },
   "file_extension": ".py",
   "mimetype": "text/x-python",
   "name": "python",
   "nbconvert_exporter": "python",
   "pygments_lexer": "ipython3",
   "version": "3.6.2"
  }
 },
 "nbformat": 4,
 "nbformat_minor": 1
}
