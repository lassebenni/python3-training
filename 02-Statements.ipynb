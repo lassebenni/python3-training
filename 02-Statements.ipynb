{
 "cells": [
  {
   "cell_type": "markdown",
   "metadata": {},
   "source": [
    "# Python Statements\n",
    "\n",
    "Let's see how to create a simple statement that says: \"If x is greater than y, assign 9 to x and 11 to y\"\n",
    "\n",
    "**C++**\n",
    "\n",
    "    if (x>y){\n",
    "        x = 9;\n",
    "        y = 11;\n",
    "    }\n",
    "                        \n",
    "**Python**   \n",
    "\n",
    "    if x>y:\n",
    "        x = 9\n",
    "        y = 11\n",
    "\n",
    "\n",
    "Python is less cluttered and more readable. What are the differences?\n",
    "<ol>\n",
    "  <li>Fewer <code>{}</code> and <code>()</code> because we use <code>:</code> and <em>whitespaces</em>.</li>\n",
    "  <li>No semicolons <code>;</code> needed</li>\n",
    "  <li>Indentation!</li>\n",
    "</ol>\n",
    "\n",
    "In the rest of this session we will discuss the following:\n",
    "<ol type=\"A\">\n",
    "  <li><code>if</code>, <code>elif</code> & <code>else</code></li>\n",
    "  <li><code>For</code> loops</li>\n",
    "  <li><code>while</code> loops</li>\n",
    "  <li>Useful Operators</li>\n",
    "  <li>List Comprehension</li>\n",
    "</ol>\n",
    "\n",
    "<hr>\n",
    "\n",
    "## A. <code>if</code>, <code>elif</code> & <code>else</code>\n",
    "\n",
    "<code>if</code> Statements in Python allows us to tell the computer to perform alternative actions based on a certain set of results - it is a decision tree!\n",
    "<br><em>\"Hey if this case happens, perform some action\"</em>\n",
    "<br>We can then expand the idea further with <code>elif</code> and <code>else</code> statements, which allow us to tell the computer:\n",
    "<br><em>\"Hey if this case happens, perform some action. Else, if another case happens, perform some other action. Else, if *none* of the above cases happened, perform this action.\"</em>\n"
   ]
  },
  {
   "cell_type": "code",
   "execution_count": 1,
   "metadata": {},
   "outputs": [
    {
     "name": "stdout",
     "output_type": "stream",
     "text": [
      "it is true\n"
     ]
    }
   ],
   "source": [
    "if True:\n",
    "    print('it is true')"
   ]
  },
  {
   "cell_type": "code",
   "execution_count": 3,
   "metadata": {},
   "outputs": [
    {
     "name": "stdout",
     "output_type": "stream",
     "text": [
      "I will be printed if x is not true\n"
     ]
    }
   ],
   "source": [
    "x = 2\n",
    "\n",
    "if x > 4:\n",
    "    print('x is bigger than 4!')\n",
    "else:\n",
    "    print('I will be printed if x is not true')"
   ]
  },
  {
   "cell_type": "code",
   "execution_count": 4,
   "metadata": {},
   "outputs": [
    {
     "name": "stdout",
     "output_type": "stream",
     "text": [
      "Let's talk Dutch and eat bitterballen!\n"
     ]
    }
   ],
   "source": [
    "airline = 'KLM'\n",
    "\n",
    "if airline == 'KLM':\n",
    "    print('Let\\'s talk Dutch and eat bitterballen!')\n",
    "elif airline == 'Air France':\n",
    "    print('Ahhh oui... baguette!')\n",
    "else:\n",
    "    print('You are not flying at all, huh?')"
   ]
  },
  {
   "cell_type": "code",
   "execution_count": 8,
   "metadata": {},
   "outputs": [
    {
     "name": "stdout",
     "output_type": "stream",
     "text": [
      "Welcome, what's your name?\n"
     ]
    }
   ],
   "source": [
    "person = 'Simon'\n",
    "\n",
    "if person == 'Thiago':\n",
    "    print('Welcome Thiago!')\n",
    "elif person =='Laurie':\n",
    "    print('Welcome Laurie!')\n",
    "else:\n",
    "    print(\"Welcome, what's your name?\")"
   ]
  },
  {
   "cell_type": "markdown",
   "metadata": {},
   "source": [
    "<hr>\n",
    "## B. <code>For</code> loops\n",
    "\n",
    "A <code>for</code> loop acts as an iterator in Python; it goes through items that are in a *sequence* or any other iterable item. What did we learned so fart that we can iterate over? <em>strings, lists, tuples</em>, and even built-in iterables for dictionaries, such as <em>keys or values</em>.\n",
    "    for item in object:\n",
    "        statements to do stuff"
   ]
  },
  {
   "cell_type": "code",
   "execution_count": 9,
   "metadata": {},
   "outputs": [
    {
     "name": "stdout",
     "output_type": "stream",
     "text": [
      "1\n3\n5\n7\n9\n"
     ]
    }
   ],
   "source": [
    "list_example = [1,3,5,7,9]\n",
    "for num in list_example:\n",
    "    print(num)"
   ]
  },
  {
   "cell_type": "code",
   "execution_count": 10,
   "metadata": {},
   "outputs": [
    {
     "name": "stdout",
     "output_type": "stream",
     "text": [
      "3\n9\n"
     ]
    }
   ],
   "source": [
    "# Add an if number to just print the numbers that divisible by 3\n",
    "for num in list_example:\n",
    "    if num % 3 == 0:\n",
    "        print(num)"
   ]
  },
  {
   "cell_type": "code",
   "execution_count": 11,
   "metadata": {},
   "outputs": [
    {
     "name": "stdout",
     "output_type": "stream",
     "text": [
      "1 is not divisible by 3\n3\n5 is not divisible by 3\n7 is not divisible by 3\n9\n"
     ]
    }
   ],
   "source": [
    "# Add an else\n",
    "for num in list_example:\n",
    "    if num % 3 == 0:\n",
    "        print(num)\n",
    "    else:\n",
    "        print(num, \"is not divisible by 3\")"
   ]
  },
  {
   "cell_type": "code",
   "execution_count": 13,
   "metadata": {},
   "outputs": [
    {
     "name": "stdout",
     "output_type": "stream",
     "text": [
      "[1, 3, 5, 7, 9]\n25\n"
     ]
    }
   ],
   "source": [
    "# it is common to have a counter variable that can be initialized before hand and added in relevant cases\n",
    "list_sum = 0 \n",
    "print(list_example)\n",
    "for num in list_example:\n",
    "    #list_sum = list_sum + num\n",
    "    list_sum += num\n",
    "\n",
    "\n",
    "print(list_sum)"
   ]
  },
  {
   "cell_type": "code",
   "execution_count": 14,
   "metadata": {},
   "outputs": [
    {
     "name": "stdout",
     "output_type": "stream",
     "text": [
      "W\ne\n \nw\no\nr\nk\n \nf\no\nr\n \nK\nL\nM\n"
     ]
    }
   ],
   "source": [
    "# And in strings\n",
    "klm_string = \"We work for KLM\"\n",
    "\n",
    "for letter in klm_string:\n",
    "    print(letter)"
   ]
  },
  {
   "cell_type": "code",
   "execution_count": 18,
   "metadata": {},
   "outputs": [
    {
     "name": "stdout",
     "output_type": "stream",
     "text": [
      "3\n4\n5\n"
     ]
    }
   ],
   "source": [
    "# And tuples?\n",
    "tup_example = (3, 4, 5)\n",
    "for num in tup_example:\n",
    "    print(num)"
   ]
  },
  {
   "cell_type": "code",
   "execution_count": 16,
   "metadata": {},
   "outputs": [
    {
     "name": "stdout",
     "output_type": "stream",
     "text": [
      "1\n3\n5\n"
     ]
    }
   ],
   "source": [
    "# tuple unpacking\n",
    "list_packed = ((1,2),(3,4),(5,6))\n",
    "\n",
    "for (t1,t2) in list_packed:\n",
    "    print(t1)"
   ]
  },
  {
   "cell_type": "code",
   "execution_count": 24,
   "metadata": {},
   "outputs": [
    {
     "name": "stdout",
     "output_type": "stream",
     "text": [
      "flight_number\nairplane_type\n\n This only print the keys\n"
     ]
    }
   ],
   "source": [
    "# Dictionaries\n",
    "my_dict = {'flight_number':889,'airplane_type':'Embraer'}\n",
    "\n",
    "for key in my_dict:\n",
    "    print(key)\n",
    "    \n",
    "print('\\n','This only print the keys')"
   ]
  },
  {
   "cell_type": "code",
   "execution_count": 25,
   "metadata": {},
   "outputs": [
    {
     "name": "stdout",
     "output_type": "stream",
     "text": [
      "flight_number 889\nairplane_type Embraer\n\n This print key and values\n"
     ]
    }
   ],
   "source": [
    "for k,v in my_dict.items():\n",
    "    print(k,v)\n",
    "    \n",
    "print('\\n', 'This print key and values')"
   ]
  },
  {
   "cell_type": "markdown",
   "metadata": {},
   "source": [
    "<hr>\n",
    "## C. <code>while</code> loops\n",
    "\n",
    "Very generic way to perform iteration. A <code>while</code> statement will repeatedly execute a single statement or group of statements as long as the condition is true.\n",
    "\n",
    "The general format of a while loop is:\n",
    "\n",
    "    while test:\n",
    "        code statements\n",
    "    else:\n",
    "        final code statements"
   ]
  },
  {
   "cell_type": "code",
   "execution_count": 26,
   "metadata": {},
   "outputs": [
    {
     "name": "stdout",
     "output_type": "stream",
     "text": [
      "x is currently: 0 .Let's add 1 to it as long as we are less than 10!\nx is currently: 1 .Let's add 1 to it as long as we are less than 10!\nx is currently: 2 .Let's add 1 to it as long as we are less than 10!\nx is currently: 3 .Let's add 1 to it as long as we are less than 10!\nx is currently: 4 .Let's add 1 to it as long as we are less than 10!\nx is currently: 5 .Let's add 1 to it as long as we are less than 10!\nx is currently: 6 .Let's add 1 to it as long as we are less than 10!\nx is currently: 7 .Let's add 1 to it as long as we are less than 10!\nx is currently: 8 .Let's add 1 to it as long as we are less than 10!\nx is currently: 9 .Let's add 1 to it as long as we are less than 10!\n"
     ]
    }
   ],
   "source": [
    "x = 0\n",
    "\n",
    "while x < 10:\n",
    "    print('x is currently:', x, '.Let\\'s add 1 to it as long as we are less than 10!')\n",
    "    x += 1"
   ]
  },
  {
   "cell_type": "code",
   "execution_count": 30,
   "metadata": {},
   "outputs": [
    {
     "name": "stdout",
     "output_type": "stream",
     "text": [
      "x is currently: 0 .Let's add 1 to it as long as we are less than 10!\nx is currently: 1 .Let's add 1 to it as long as we are less than 10!\nx is currently: 2 .Let's add 1 to it as long as we are less than 10!\nx is currently: 3 .Let's add 1 to it as long as we are less than 10!\nx is currently: 4 .Let's add 1 to it as long as we are less than 10!\nx is currently: 5 .Let's add 1 to it as long as we are less than 10!\nx is currently: 6 .Let's add 1 to it as long as we are less than 10!\nx is currently: 7 .Let's add 1 to it as long as we are less than 10!\nx is currently: 8 .Let's add 1 to it as long as we are less than 10!\nx is currently: 9 .Let's add 1 to it as long as we are less than 10!\nWe reached 10! All over!\n"
     ]
    }
   ],
   "source": [
    "x = 0\n",
    "\n",
    "while x < 10:\n",
    "    print('x is currently:', x, '.Let\\'s add 1 to it as long as we are less than 10!')\n",
    "    x += 1\n",
    "else:\n",
    "    print('We reached 10! All over!')"
   ]
  },
  {
   "cell_type": "markdown",
   "metadata": {},
   "source": [
    "### break, continue, pass\n",
    "\n",
    "We can use <code>break</code>, <code>continue</code>, and <code>pass</code> statements in our loops to add additional functionality for various cases.\n",
    "\n",
    "  <b>break</b>: Breaks out of the current closest enclosing loop.\n",
    "  <br><b>continue</b>: Goes to the top of the closest enclosing loop.\n",
    "  <br><b>pass</b>: Does nothing at all."
   ]
  },
  {
   "cell_type": "code",
   "execution_count": 27,
   "metadata": {},
   "outputs": [
    {
     "name": "stdout",
     "output_type": "stream",
     "text": [
      "x is currently: 0 .Let's add 1 to it as long as we are less than 10!\ncontinuing...\nx is currently: 1 .Let's add 1 to it as long as we are less than 10!\ncontinuing...\nx is currently: 2 .Let's add 1 to it as long as we are less than 10!\nx is equal to 3\nx is currently: 3 .Let's add 1 to it as long as we are less than 10!\ncontinuing...\nx is currently: 4 .Let's add 1 to it as long as we are less than 10!\ncontinuing...\nx is currently: 5 .Let's add 1 to it as long as we are less than 10!\ncontinuing...\nx is currently: 6 .Let's add 1 to it as long as we are less than 10!\ncontinuing...\nx is currently: 7 .Let's add 1 to it as long as we are less than 10!\ncontinuing...\nx is currently: 8 .Let's add 1 to it as long as we are less than 10!\ncontinuing...\nx is currently: 9 .Let's add 1 to it as long as we are less than 10!\ncontinuing...\nWe reached 10! All over!\n"
     ]
    }
   ],
   "source": [
    "x = 0\n",
    "\n",
    "while x < 10:\n",
    "    print('x is currently:', x, '.Let\\'s add 1 to it as long as we are less than 10!')\n",
    "    x += 1\n",
    "    if x == 3:\n",
    "        print('x is equal to 3')\n",
    "    else:\n",
    "        print('continuing...')\n",
    "        continue\n",
    "else:\n",
    "    print('We reached 10! All over!')"
   ]
  },
  {
   "cell_type": "code",
   "execution_count": 28,
   "metadata": {
    "collapsed": true
   },
   "outputs": [
    {
     "name": "stdout",
     "output_type": "stream",
     "text": [
      "x is currently: 0 .Let's add 1 to it as long as we are less than 10!\ncontinuing...\nx is currently: 1 .Let's add 1 to it as long as we are less than 10!\ncontinuing...\nx is currently: 2 .Let's add 1 to it as long as we are less than 10!\nBreaking because x is equal to 3\n"
     ]
    }
   ],
   "source": [
    "# put in a break once x == 3\n",
    "x = 0\n",
    "\n",
    "while x < 10:\n",
    "    print('x is currently:', x, '.Let\\'s add 1 to it as long as we are less than 10!')\n",
    "    x += 1\n",
    "    if x == 3:\n",
    "        print('Breaking because x is equal to 3')\n",
    "        break\n",
    "    else:\n",
    "        print('continuing...')\n",
    "        continue\n",
    "else:\n",
    "    print('We reached 10! All over!')\n"
   ]
  },
  {
   "cell_type": "markdown",
   "metadata": {},
   "source": [
    "**Caution -  It is possible to create an infinitely running loop with <code>while</code> statements.**"
   ]
  },
  {
   "cell_type": "markdown",
   "metadata": {},
   "source": [
    "<hr>\n",
    "## D. Useful Operators\n",
    "\n",
    "#### Range"
   ]
  },
  {
   "cell_type": "code",
   "execution_count": 30,
   "metadata": {},
   "outputs": [
    {
     "data": {
      "text/plain": [
       "[0, 1, 2, 3, 4, 5, 6, 7, 8, 9]"
      ]
     },
     "execution_count": 30,
     "metadata": {},
     "output_type": "execute_result"
    }
   ],
   "source": [
    "# from UP TO\n",
    "\n",
    "list(range(0,10))"
   ]
  },
  {
   "cell_type": "code",
   "execution_count": 31,
   "metadata": {},
   "outputs": [
    {
     "data": {
      "text/plain": [
       "[1, 3, 5, 7, 9]"
      ]
     },
     "execution_count": 31,
     "metadata": {},
     "output_type": "execute_result"
    }
   ],
   "source": [
    "# From, Up to, Step size\n",
    "list(range(1,10,2))"
   ]
  },
  {
   "cell_type": "markdown",
   "metadata": {},
   "source": [
    "#### Enumerate"
   ]
  },
  {
   "cell_type": "code",
   "execution_count": 32,
   "metadata": {},
   "outputs": [
    {
     "name": "stdout",
     "output_type": "stream",
     "text": [
      "At index 0 the letter is W\nAt index 1 the letter is e\nAt index 2 the letter is  \nAt index 3 the letter is W\nAt index 4 the letter is o\nAt index 5 the letter is r\nAt index 6 the letter is k\nAt index 7 the letter is  \nAt index 8 the letter is a\nAt index 9 the letter is t\nAt index 10 the letter is  \nAt index 11 the letter is K\nAt index 12 the letter is L\nAt index 13 the letter is M\n"
     ]
    }
   ],
   "source": [
    "index_count = 0\n",
    "\n",
    "for letter in 'We Work at KLM':\n",
    "    print(\"At index {} the letter is {}\".format(index_count, letter))\n",
    "    index_count += 1"
   ]
  },
  {
   "cell_type": "code",
   "execution_count": 33,
   "metadata": {},
   "outputs": [
    {
     "name": "stdout",
     "output_type": "stream",
     "text": [
      "At index 0 the letter is W\nAt index 1 the letter is e\nAt index 2 the letter is  \nAt index 3 the letter is w\nAt index 4 the letter is o\nAt index 5 the letter is r\nAt index 6 the letter is k\nAt index 7 the letter is  \nAt index 8 the letter is a\nAt index 9 the letter is t\nAt index 10 the letter is  \nAt index 11 the letter is K\nAt index 12 the letter is L\nAt index 13 the letter is M\n"
     ]
    }
   ],
   "source": [
    "for z,letter in enumerate('We work at KLM'):\n",
    "    print(\"At index {} the letter is {}\".format(z, letter))"
   ]
  },
  {
   "cell_type": "markdown",
   "metadata": {},
   "source": [
    "#### Zip\n",
    "You will notice that a list of tuples is a very common output of functions & methods. `zip` can be used to quickly create a list of tuples by \"zipping together\" two lists."
   ]
  },
  {
   "cell_type": "code",
   "execution_count": 43,
   "metadata": {},
   "outputs": [
    {
     "data": {
      "text/plain": [
       "[(0, 'W'),\n (1, 'e'),\n (2, ' '),\n (3, 'w'),\n (4, 'o'),\n (5, 'r'),\n (6, 'k'),\n (7, ' '),\n (8, 'a'),\n (9, 't'),\n (10, ' '),\n (11, 'K'),\n (12, 'L'),\n (13, 'M')]"
      ]
     },
     "execution_count": 43,
     "metadata": {},
     "output_type": "execute_result"
    }
   ],
   "source": [
    "# Look! A list of tuples\n",
    "list(enumerate('We work at KLM'))"
   ]
  },
  {
   "cell_type": "code",
   "execution_count": 35,
   "metadata": {},
   "outputs": [
    {
     "name": "stdout",
     "output_type": "stream",
     "text": [
      "This is a tuple with 1st item 0 and 2nd item W\nThis is a tuple with 1st item 1 and 2nd item e\nThis is a tuple with 1st item 2 and 2nd item  \nThis is a tuple with 1st item 3 and 2nd item w\nThis is a tuple with 1st item 4 and 2nd item o\nThis is a tuple with 1st item 5 and 2nd item r\nThis is a tuple with 1st item 6 and 2nd item k\nThis is a tuple with 1st item 7 and 2nd item  \nThis is a tuple with 1st item 8 and 2nd item a\nThis is a tuple with 1st item 9 and 2nd item t\nThis is a tuple with 1st item 10 and 2nd item  \nThis is a tuple with 1st item 11 and 2nd item K\nThis is a tuple with 1st item 12 and 2nd item L\nThis is a tuple with 1st item 13 and 2nd item M\n"
     ]
    }
   ],
   "source": [
    "list1 = list(range(0,14))\n",
    "list2 = list('We work at KLM')\n",
    "for item1, item2 in zip(list1,list2):\n",
    "    print('This is a tuple with 1st item {} and 2nd item {}'.format(item1, item2))"
   ]
  },
  {
   "cell_type": "markdown",
   "metadata": {},
   "source": [
    "#### Max, Min, In and many others"
   ]
  },
  {
   "cell_type": "markdown",
   "metadata": {},
   "source": [
    "<hr>\n",
    "## E. List Comprehension\n",
    "\n",
    "Allow us to build out lists using a different notation. You can think of it as essentially a one line <code>for</code> loop built inside of brackets."
   ]
  },
  {
   "cell_type": "code",
   "execution_count": 52,
   "metadata": {},
   "outputs": [
    {
     "data": {
      "text/plain": [
       "['W', 'e', 'l', 'c', 'o', 'm', 'e', ' ', 't', 'o', ' ', 'K', 'L', 'M']"
      ]
     },
     "execution_count": 52,
     "metadata": {},
     "output_type": "execute_result"
    }
   ],
   "source": [
    "# Grab every letter in string\n",
    "list_of_letters = [letter for letter in 'Welcome to KLM']\n",
    "list_of_letters"
   ]
  },
  {
   "cell_type": "code",
   "execution_count": 53,
   "metadata": {},
   "outputs": [
    {
     "data": {
      "text/plain": [
       "[0, 1, 4, 9, 16, 25, 36, 49, 64, 81, 100]"
      ]
     },
     "execution_count": 53,
     "metadata": {},
     "output_type": "execute_result"
    }
   ],
   "source": [
    "# Square numbers in range and turn into list\n",
    "list_of_squares = [x**2 for x in range(0,11)]\n",
    "list_of_squares"
   ]
  },
  {
   "cell_type": "code",
   "execution_count": 56,
   "metadata": {},
   "outputs": [
    {
     "data": {
      "text/plain": [
       "[3, 6, 9]"
      ]
     },
     "execution_count": 56,
     "metadata": {},
     "output_type": "execute_result"
    }
   ],
   "source": [
    "# Making it harder with an if\n",
    "list_of_divisible_by_3 = [x for x in range(0,11) if x % 3 == 0 and x != 0]\n",
    "list_of_divisible_by_3"
   ]
  },
  {
   "cell_type": "code",
   "execution_count": 58,
   "metadata": {},
   "outputs": [
    {
     "data": {
      "text/plain": [
       "[9, 36, 81]"
      ]
     },
     "execution_count": 58,
     "metadata": {},
     "output_type": "execute_result"
    }
   ],
   "source": [
    "# you can nest it\n",
    "list_of_squares_of_divisible_3 = [x**2 for x in [x for x in range(0,11) if x != 0 and x % 3 ==0]]\n",
    "list_of_squares_of_divisible_3"
   ]
  },
  {
   "cell_type": "markdown",
   "metadata": {},
   "source": [
    "<hr>\n",
    "## TEST!"
   ]
  },
  {
   "cell_type": "code",
   "execution_count": 60,
   "metadata": {},
   "outputs": [],
   "source": [
    "# use for, if and split\n",
    "st = 'Print only the words that start with s in this sentence'"
   ]
  },
  {
   "cell_type": "code",
   "execution_count": 62,
   "metadata": {},
   "outputs": [
    {
     "name": "stdout",
     "output_type": "stream",
     "text": [
      "start\nsentence\n"
     ]
    }
   ],
   "source": [
    "for word in st.split():\n",
    "    if word[0] == 's' and len(word) > 1:\n",
    "        print(word)"
   ]
  },
  {
   "cell_type": "code",
   "execution_count": 63,
   "metadata": {},
   "outputs": [],
   "source": [
    "# Go through the string below and if the length of a word is even print \"even!\"\n",
    "st = 'Print every word in this sentence that has an even number of letters'"
   ]
  },
  {
   "cell_type": "code",
   "execution_count": 67,
   "metadata": {},
   "outputs": [
    {
     "name": "stdout",
     "output_type": "stream",
     "text": [
      "' word ' has an even length!\n' in ' has an even length!\n' this ' has an even length!\n' sentence ' has an even length!\n' that ' has an even length!\n' an ' has an even length!\n' even ' has an even length!\n' number ' has an even length!\n' of ' has an even length!\n"
     ]
    }
   ],
   "source": [
    "for word in st.split():\n",
    "    if len(word)%2 == 0:\n",
    "        print(\"'\", word, \"' has an even length!\")"
   ]
  },
  {
   "cell_type": "code",
   "execution_count": 36,
   "metadata": {},
   "outputs": [
    {
     "name": "stdout",
     "output_type": "stream",
     "text": [
      "C\na\nl\no\nt\nf\nl\no\ne\nw\ni\nt\ns\n"
     ]
    }
   ],
   "source": [
    "# Use a List Comprehension to create a list of the first letters of every word in the string below\n",
    "st = 'Create a list of the first letters of every word in this string'\n",
    "\n",
    "for word in st.split():\n",
    "    print(word[0])"
   ]
  },
  {
   "cell_type": "code",
   "execution_count": 37,
   "metadata": {},
   "outputs": [
    {
     "data": {
      "text/plain": [
       "['C', 'a', 'l', 'o', 't', 'f', 'l', 'o', 'e', 'w', 'i', 't', 's']"
      ]
     },
     "execution_count": 37,
     "metadata": {},
     "output_type": "execute_result"
    }
   ],
   "source": [
    "new_list = [word[0] for word in st.split()]\n",
    "new_list"
   ]
  },
  {
   "cell_type": "code",
   "execution_count": null,
   "metadata": {},
   "outputs": [],
   "source": []
  }
 ],
 "metadata": {
  "anaconda-cloud": {},
  "kernelspec": {
   "display_name": "Python 3",
   "language": "python",
   "name": "python3"
  },
  "language_info": {
   "codemirror_mode": {
    "name": "ipython",
    "version": 3
   },
   "file_extension": ".py",
   "mimetype": "text/x-python",
   "name": "python",
   "nbconvert_exporter": "python",
   "pygments_lexer": "ipython3",
   "version": "3.6.2"
  }
 },
 "nbformat": 4,
 "nbformat_minor": 1
}
